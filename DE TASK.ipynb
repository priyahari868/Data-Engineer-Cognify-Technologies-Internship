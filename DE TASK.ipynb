{
 "cells": [
  {
   "cell_type": "code",
   "execution_count": null,
   "id": "e391f994",
   "metadata": {},
   "outputs": [
    {
     "name": "stdout",
     "output_type": "stream",
     "text": [
      "   Train_No    Train_Name           Source_Station_Name  \\\n",
      "0       107  SWV-MAO-VLNK               SAWANTWADI ROAD   \n",
      "1       108  VLNK-MAO-SWV                   MADGOAN JN.   \n",
      "2       128  MAO-KOP SPEC                   MADGOAN JN.   \n",
      "3       290  PALACE ON WH             DELHI-SAFDAR JANG   \n",
      "4       401  BSB BHARATDA                    AURANGABAD   \n",
      "5       421  LKO-SVDK FTR                   LUCKNOW JN.   \n",
      "6       422  SVDK-LKO FTR  SHRI MATA VAISHNO DEVI KATRA   \n",
      "7       477  FTR TRAIN NO                         SIRSA   \n",
      "8       502  RJPB-UMB FTR        RAJENDRANAGAR TERMINAL   \n",
      "9       504  PNBE-BTI FTR                     PATNA JN.   \n",
      "\n",
      "             Destination_Station_Name       days  \n",
      "0                         MADGOAN JN.   Saturday  \n",
      "1                     SAWANTWADI ROAD     Friday  \n",
      "2  CHHATRAPATI SHAHU MAHARAJ TERMINUS     Friday  \n",
      "3                   DELHI-SAFDAR JANG  Wednesday  \n",
      "4                        VARANASI JN.   Saturday  \n",
      "5        SHRI MATA VAISHNO DEVI KATRA    Tuesday  \n",
      "6                         LUCKNOW JN.     Monday  \n",
      "7                               SIRSA     Sunday  \n",
      "8                     AMBALA CANTT JN     Monday  \n",
      "9                         BATHINDA JN  Wednesday  \n"
     ]
    }
   ],
   "source": [
    "import pandas as pd\n",
    "df = pd.read_csv('Railway_info.csv')\n",
    "print()\n"
   ]
  },
  {
   "cell_type": "code",
   "execution_count": null,
   "id": "e7d888f8",
   "metadata": {},
   "outputs": [],
   "source": []
  }
 ],
 "metadata": {
  "kernelspec": {
   "display_name": "Python 3",
   "language": "python",
   "name": "python3"
  },
  "language_info": {
   "codemirror_mode": {
    "name": "ipython",
    "version": 3
   },
   "file_extension": ".py",
   "mimetype": "text/x-python",
   "name": "python",
   "nbconvert_exporter": "python",
   "pygments_lexer": "ipython3",
   "version": "3.12.2"
  }
 },
 "nbformat": 4,
 "nbformat_minor": 5
}
